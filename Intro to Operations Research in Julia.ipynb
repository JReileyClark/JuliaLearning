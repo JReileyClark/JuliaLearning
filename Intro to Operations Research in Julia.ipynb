{
 "cells": [
  {
   "cell_type": "markdown",
   "metadata": {},
   "source": [
    "#  Introduction to Operations Research -  Linear Programming"
   ]
  },
  {
   "cell_type": "markdown",
   "metadata": {},
   "source": [
    "In this notebook I will demonstrate how to use the [Julia Programming Language](https://julialang.org) and the powerful [JuMP](https://jump.dev) optimization framework to solve common business problems using Operations Research techniques.  The examples in this notebook are borrowed from __Introduction to Operations Research -  Fredrick S. Hillier, Gerald J Lieberman 10th edition__\n",
    "\n",
    "This notebook assumes you are somewhat familiar with basic Julia syntax and things like functions, macros, packages, etc."
   ]
  },
  {
   "cell_type": "markdown",
   "metadata": {},
   "source": [
    "If you don't have the packages installed in the next cell, uncomment and run."
   ]
  },
  {
   "cell_type": "code",
   "execution_count": 3,
   "metadata": {},
   "outputs": [],
   "source": [
    "# Using Pkg\n",
    "# Pkg.add(\"Clp\")\n",
    "# Pkg.add(\"Cbc\")\n",
    "# Pkg.add(\"GLPK\")"
   ]
  },
  {
   "cell_type": "code",
   "execution_count": 4,
   "metadata": {},
   "outputs": [],
   "source": [
    "# Lets begin by importing the necessary packages\n",
    "using JuMP\n",
    "using GLPK #GLPK is an open source optimizing software"
   ]
  },
  {
   "cell_type": "markdown",
   "metadata": {},
   "source": [
    "## Problem #1 Setup\n",
    "\n",
    ">The WYNDOR GLASS CO. produces high quality glass products, including windows and glass doors. It has three plants. Aluminum frames and hardware are made in Plant 1, wood frames are made in Plant 2, and Plant 3 produces the glass and assembles the products.\n",
    ">\n",
    ">Because of declining earnings, top management has decided to revamp the company's product line. Unprofitable products are being discontinued, releasing production capacity to launch two new products having large sales potential:\n",
    ">* Product 1: An 8-foot glass door with aluminum framing\n",
    ">* Product 2: A 4x6 foot double-hung wood-framed window\n",
    ">\n",
    ">Product 1 requires some of the production capacity in Plants 1 and 3, but none in Plant 2. Product 2 needs only Plants 2 and 3. The marketing division has concluded that the company could sell as much of either product as could be produced by these plants. However, because both products would be competing for the same production capacity in Plant 3, its not clear which mix of the two products would be *most profitable*.\n",
    ">\n",
    ">**Determine what the production rates should be for the two products in order to maximize their total profit, subject to the restrictions imbosed by the limited production capacities available in the three plants. (each product will be produced in batches of 20, so the production rate is defined as the number of batches produced per week.) Any combination of production rates that satisfies these restrictions is permitted, including producing none of one product and as much as possible of the other.**\n"
   ]
  },
  {
   "cell_type": "markdown",
   "metadata": {},
   "source": [
    "> The Operations Research team has identified the data that need to be gathered:\n",
    "1. Number of hours of production time available per week in each plant for the products.\n",
    "1. Number of hours of production time used in each plant for each batch produced of the new product\n",
    "1. Profit per batch produced of each new product."
   ]
  },
  {
   "cell_type": "markdown",
   "metadata": {},
   "source": [
    "### Data\n",
    "\n",
    "The Operations Research Team discovers that Plant 1 has only 4 hours of available production time per week, Plant 2 has 12, and Plant 3 has 18. Additionally, they learn that a batch of 20 units (the minimum batch size) takes 1 hour at Plant 1 and 3 hours at Plant 3. Product 2 takes 2 hours at Plant 2 and 2 hours at Plant 3.  Finally they learn that the Profit per batch of product is 3,000 for Product 1 and 5,000 for product 2. The data is summarized in the table below."
   ]
  },
  {
   "cell_type": "markdown",
   "metadata": {},
   "source": [
    "<style type=\"text/css\">\n",
    ".tg  {border-collapse:collapse;border-spacing:0;}\n",
    ".tg td{border-color:black;border-style:solid;border-width:1px;font-family:Arial, sans-serif;font-size:14px;\n",
    "  overflow:hidden;padding:10px 5px;word-break:normal;}\n",
    ".tg th{border-color:black;border-style:solid;border-width:1px;font-family:Arial, sans-serif;font-size:14px;\n",
    "  font-weight:normal;overflow:hidden;padding:10px 5px;word-break:normal;}\n",
    ".tg .tg-0pky{border-color:inherit;text-align:left;vertical-align:top}\n",
    "</style>\n",
    "<table class=\"tg\">\n",
    "<thead>\n",
    "  <tr>\n",
    "    <th class=\"tg-0pky\">Plant</th>\n",
    "    <th class=\"tg-0pky\">Product 1 Production Time</th>\n",
    "    <th class=\"tg-0pky\">Product 2 Production time</th>\n",
    "    <th class=\"tg-0pky\">Availabel time per week</th>\n",
    "  </tr>\n",
    "</thead>\n",
    "<tbody>\n",
    "  <tr>\n",
    "    <td class=\"tg-0pky\">1</td>\n",
    "    <td class=\"tg-0pky\">1</td>\n",
    "    <td class=\"tg-0pky\">0</td>\n",
    "    <td class=\"tg-0pky\">4</td>\n",
    "  </tr>\n",
    "  <tr>\n",
    "    <td class=\"tg-0pky\">2</td>\n",
    "    <td class=\"tg-0pky\">0</td>\n",
    "    <td class=\"tg-0pky\">2</td>\n",
    "    <td class=\"tg-0pky\">12</td>\n",
    "  </tr>\n",
    "  <tr>\n",
    "    <td class=\"tg-0pky\">3</td>\n",
    "    <td class=\"tg-0pky\">3</td>\n",
    "    <td class=\"tg-0pky\">2</td>\n",
    "    <td class=\"tg-0pky\">18</td>\n",
    "  </tr>\n",
    "  <tr>\n",
    "    <td class=\"tg-0pky\">Profit</td>\n",
    "    <td class=\"tg-0pky\">3000</td>\n",
    "    <td class=\"tg-0pky\">5000</td>\n",
    "    <td class=\"tg-0pky\"></td>\n",
    "  </tr>\n",
    "</tbody>\n",
    "</table>"
   ]
  },
  {
   "cell_type": "code",
   "execution_count": null,
   "metadata": {},
   "outputs": [],
   "source": [
    "m = Model(with_optimizer(GLPK.Optimizer))"
   ]
  },
  {
   "cell_type": "code",
   "execution_count": 42,
   "metadata": {},
   "outputs": [
    {
     "data": {
      "text/latex": [
       "$ 3 x₁ + 2 x₂ \\leq 18.0 $"
      ],
      "text/plain": [
       "3 x₁ + 2 x₂ ≤ 18.0"
      ]
     },
     "execution_count": 42,
     "metadata": {},
     "output_type": "execute_result"
    }
   ],
   "source": [
    "# Define the variables used in our model.\n",
    "# x₁ is the number of batches of product 1\n",
    "# x₂ is the number of batches of product 2\n",
    "# We only want to deal with full batches\n",
    "# so we set the type to Int\n",
    "@variable(m, x₁ ≥ 0, Int)\n",
    "@variable(m, x₂ ≥ 0, Int)\n",
    "\n",
    "# Now we define our objective. We wish to maximize\n",
    "# our profit Z = 3x₁ + 5x₂ in thousands of dollars\n",
    "@objective(m, Max, 3x₁ + 5x₂)\n",
    "\n",
    "# Finally, lets specify our constraints. Production capacity.\n",
    "@constraint(m, x₁ ≤ 4)\n",
    "@constraint(m, 2x₂ ≤ 12)\n",
    "@constraint(m, 3x₁ + 2x₂ ≤ 18)"
   ]
  },
  {
   "cell_type": "code",
   "execution_count": 43,
   "metadata": {},
   "outputs": [],
   "source": [
    "# Now just call optimize!() which modifies our model, m, in place\n",
    "optimize!(m)"
   ]
  },
  {
   "cell_type": "code",
   "execution_count": 53,
   "metadata": {},
   "outputs": [
    {
     "name": "stdout",
     "output_type": "stream",
     "text": [
      "Max 3 x₁ + 5 x₂\n",
      "Subject to\n",
      " x₁ ≤ 4.0\n",
      " 2 x₂ ≤ 12.0\n",
      " 3 x₁ + 2 x₂ ≤ 18.0\n",
      " x₁ ≥ 0.0\n",
      " x₂ ≥ 0.0\n",
      " x₁ integer\n",
      " x₂ integer\n",
      "\n",
      "The Optimal Values of xᵢ: \n",
      "x₁ = 2.0\n",
      "x₂ = 6.0\n"
     ]
    }
   ],
   "source": [
    "println(m)\n",
    "println(\"The Optimal Values of xᵢ: \")\n",
    "println(\"x₁ = \", value(x₁))\n",
    "println(\"x₂ = \", value(x₂))"
   ]
  },
  {
   "cell_type": "markdown",
   "metadata": {},
   "source": [
    "What we have just solved is called a Linear Integer Program. *Linear* because our objective and constraints are linear functions of our variables $xᵢ$ (conventionally referred to as *decision variables*. *Integer* because we only want solutions that are integer values of our variables.  Typically integer programs are significantly more difficult to solve than standard linear programs, but with the size of this model and Julia's performance, it's nothing to sweat about.\n",
    "\n",
    "Integer programs are common in manufacturing where we gain no value in producing half a car, or launching 1/3 of a satellite into space.\n",
    "\n",
    "Also notice that we have a nonnegativity constraint on our decision variables as it is not meaningful to discuss making negative quantities of product."
   ]
  },
  {
   "cell_type": "markdown",
   "metadata": {},
   "source": [
    "## Problem #2 setup\n",
    "\n",
    "Operations Research optimization techniques are also commonly used in medicine.  Take for example radiation therapy delivered to prostate cancer patients.  The treatment is typically delivered by directing beams of radiation at the cancerous tissue.  Because the tumor is surrounded by non cancerous tissue, there is a risk of damaging the healthy tissue with the radiation beam.  In this example we will lay out a simple version of the more complex model used in real life.\n",
    "\n",
    "E. K. Lee and M. Zaider, “Operations Research Advances Cancer Therapeutics,” Interfaces, 38(1): 5–25, Jan.–Feb. 2008.\n",
    "\n",
    "Imagine that our patient Thomas has been diagnosed with prostate cancer. Given the location of the tumor on the prostate you use your best judgement to place two available radiation therapy beams so as to minimize the beam travel through healthy tissue.  Both beams are important because you want to attack the tumor from multiple angles to maximize treatment delivery.  The problem, however, is that each beam delivers different doses of radiation to the tumor and to the surrounding healthy tissue.\n",
    "\n",
    "Your objective is to choose the optimal combination of beam dosages so as to achieve the target dose in the tumor, while minimizing doses to surrounding tissue.\n",
    "\n",
    "The treatment region is broken down into 4 main areas:\n",
    "1. Healthy anatomy\n",
    "1. Critical tissues\n",
    "1. Tumor region\n",
    "1. Center of tumor\n",
    "\n",
    "### Data\n",
    "The relevant absorbtion dosages and constraints are summarized in the table below"
   ]
  },
  {
   "cell_type": "markdown",
   "metadata": {},
   "source": [
    "<style type=\"text/css\">\n",
    ".tg  {border-collapse:collapse;border-spacing:0;}\n",
    ".tg td{border-color:black;border-style:solid;border-width:1px;font-family:Arial, sans-serif;font-size:14px;\n",
    "  overflow:hidden;padding:10px 5px;word-break:normal;}\n",
    ".tg th{border-color:black;border-style:solid;border-width:1px;font-family:Arial, sans-serif;font-size:14px;\n",
    "  font-weight:normal;overflow:hidden;padding:10px 5px;word-break:normal;}\n",
    ".tg .tg-baqh{text-align:center;vertical-align:top}\n",
    ".tg .tg-0pky{border-color:inherit;text-align:left;vertical-align:top}\n",
    ".tg .tg-0lax{text-align:left;vertical-align:top}\n",
    "</style>\n",
    "<table class=\"tg\" style=\"undefined;table-layout: fixed; width: 500px\">\n",
    "<colgroup>\n",
    "<col style=\"width: 50px\">\n",
    "<col style=\"width: 50px\">\n",
    "<col style=\"width: 50px\">\n",
    "<col style=\"width: 50px\">\n",
    "</colgroup>\n",
    "<thead>\n",
    "  <tr>\n",
    "    <th class=\"tg-0pky\"></th>\n",
    "    <th class=\"tg-0pky\" colspan=\"2\">Fraction of Entry Dose Absorbed by Area</th>\n",
    "    <th class=\"tg-0pky\"></th>\n",
    "  </tr>\n",
    "</thead>\n",
    "<tbody>\n",
    "  <tr>\n",
    "    <td class=\"tg-baqh\">Area</td>\n",
    "    <td class=\"tg-0lax\">Beam 1</td>\n",
    "    <td class=\"tg-0lax\">Beam 2</td>\n",
    "    <td class=\"tg-0lax\">Restriction on Total Dose, Kilorads</td>\n",
    "  </tr>\n",
    "  <tr>\n",
    "    <td class=\"tg-0pky\">Healthy anatomy</td>\n",
    "    <td class=\"tg-0pky\">0.4</td>\n",
    "    <td class=\"tg-0pky\">0.5</td>\n",
    "    <td class=\"tg-0pky\">Minimize</td>\n",
    "  </tr>\n",
    "  <tr>\n",
    "    <td class=\"tg-0pky\">Critical tissues</td>\n",
    "    <td class=\"tg-0pky\">0.3</td>\n",
    "    <td class=\"tg-0pky\">0.1</td>\n",
    "    <td class=\"tg-0pky\">&le; 2.7</td>\n",
    "  </tr>\n",
    "  <tr>\n",
    "    <td class=\"tg-0pky\">Tumor region</td>\n",
    "    <td class=\"tg-0pky\">0.5</td>\n",
    "    <td class=\"tg-0pky\">0.5</td>\n",
    "    <td class=\"tg-0pky\">= 6</td>\n",
    "  </tr>\n",
    "  <tr>\n",
    "    <td class=\"tg-0pky\">Center of tumor</td>\n",
    "    <td class=\"tg-0pky\">0.6</td>\n",
    "    <td class=\"tg-0pky\">0.4</td>\n",
    "    <td class=\"tg-0pky\">&ge; 6</td>\n",
    "  </tr>\n",
    "</tbody>\n",
    "</table>"
   ]
  },
  {
   "cell_type": "code",
   "execution_count": 62,
   "metadata": {},
   "outputs": [
    {
     "data": {
      "text/latex": [
       "$$ \\begin{alignat*}{1}\\text{feasibility}\\\\\n",
       "\\text{Subject to} \\quad\\end{alignat*}\n",
       " $$"
      ],
      "text/plain": [
       "A JuMP Model\n",
       "Feasibility problem with:\n",
       "Variables: 0\n",
       "Model mode: AUTOMATIC\n",
       "CachingOptimizer state: EMPTY_OPTIMIZER\n",
       "Solver name: GLPK"
      ]
     },
     "execution_count": 62,
     "metadata": {},
     "output_type": "execute_result"
    }
   ],
   "source": [
    "# Lets begin converting this problem into a JuMP model\n",
    "\n",
    "m2 = Model(with_optimizer(GLPK.Optimizer))"
   ]
  },
  {
   "cell_type": "code",
   "execution_count": 63,
   "metadata": {},
   "outputs": [
    {
     "data": {
      "text/latex": [
       "$ 0.6 x₁ + 0.4 x₂ \\geq 6.0 $"
      ],
      "text/plain": [
       "0.6 x₁ + 0.4 x₂ ≥ 6.0"
      ]
     },
     "execution_count": 63,
     "metadata": {},
     "output_type": "execute_result"
    }
   ],
   "source": [
    "# Again, we'll begin by declaring our variables, our objective, and finally our constraints.\n",
    "# For this problem, we'll allow fractional dosages.\n",
    "\n",
    "@variable(m2, x₁ ≥ 0)\n",
    "@variable(m2, x₂ ≥ 0)\n",
    "\n",
    "@objective(m2, Min, 0.4x₁ + 0.5x₂)\n",
    "\n",
    "@constraint(m2, 0.3x₁ + 0.1x₂ ≤ 2.7) #This constrain says we wont accept more than 2.7 Kilorads to critical tissues\n",
    "@constraint(m2, 0.5x₁ + 0.5x₂ == 6) # this constraint specifies we want an exact total dose delivered to the tumor region\n",
    "@constraint(m2, 0.6x₁ + 0.4x₂ ≥ 6) # This says we want the center of the tumor to get more than the general tumor region"
   ]
  },
  {
   "cell_type": "code",
   "execution_count": 65,
   "metadata": {},
   "outputs": [
    {
     "name": "stdout",
     "output_type": "stream",
     "text": [
      "Min 0.4 x₁ + 0.5 x₂\n",
      "Subject to\n",
      " 0.5 x₁ + 0.5 x₂ = 6.0\n",
      " 0.6 x₁ + 0.4 x₂ ≥ 6.0\n",
      " 0.3 x₁ + 0.1 x₂ ≤ 2.7\n",
      " x₁ ≥ 0.0\n",
      " x₂ ≥ 0.0\n",
      "\n",
      "The Optimal Values of xᵢ: \n",
      "x₁ = 7.500000000000002\n",
      "x₂ = 4.499999999999997\n"
     ]
    }
   ],
   "source": [
    "optimize!(m2)\n",
    "println(m2)\n",
    "println(\"The Optimal Values of xᵢ: \")\n",
    "println(\"x₁ = \", value(x₁))\n",
    "println(\"x₂ = \", value(x₂))"
   ]
  },
  {
   "cell_type": "markdown",
   "metadata": {},
   "source": [
    "Here we see we've identified the optimal values up to numerical precision is (7.5, 4.5).  Unlike Example 1, which is a resource allocation problem, this problem is a cost/benefit optimization problem. Specifically, we are trying to minimze the cost of achieving a specific dosage delivered to the tumor."
   ]
  },
  {
   "cell_type": "code",
   "execution_count": null,
   "metadata": {},
   "outputs": [],
   "source": []
  }
 ],
 "metadata": {
  "kernelspec": {
   "display_name": "Julia 1.5.0",
   "language": "julia",
   "name": "julia-1.5"
  },
  "language_info": {
   "file_extension": ".jl",
   "mimetype": "application/julia",
   "name": "julia",
   "version": "1.5.0"
  }
 },
 "nbformat": 4,
 "nbformat_minor": 2
}
